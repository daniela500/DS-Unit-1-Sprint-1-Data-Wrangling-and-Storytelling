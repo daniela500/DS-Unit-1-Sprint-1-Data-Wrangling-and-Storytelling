{
  "nbformat": 4,
  "nbformat_minor": 0,
  "metadata": {
    "colab": {
      "name": "LS_DS_112_Make_Features_Assignment.ipynb",
      "provenance": [],
      "collapsed_sections": []
    },
    "kernelspec": {
      "display_name": "Python 3",
      "language": "python",
      "name": "python3"
    },
    "language_info": {
      "codemirror_mode": {
        "name": "ipython",
        "version": 3
      },
      "file_extension": ".py",
      "mimetype": "text/x-python",
      "name": "python",
      "nbconvert_exporter": "python",
      "pygments_lexer": "ipython3",
      "version": "3.7.1"
    }
  },
  "cells": [
    {
      "cell_type": "markdown",
      "metadata": {
        "id": "SnDJqBLi0FYW",
        "colab_type": "text"
      },
      "source": [
        "<img align=\"left\" src=\"https://lever-client-logos.s3.amazonaws.com/864372b1-534c-480e-acd5-9711f850815c-1524247202159.png\" width=200> "
      ]
    },
    {
      "cell_type": "markdown",
      "metadata": {
        "id": "W5GjI1z5yNG4",
        "colab_type": "text"
      },
      "source": [
        "# Assignment:\n",
        "\n",
        "- Replicate the lesson code.\n",
        "\n",
        " - This means that if you haven't followed along already, type out the things that we did in class. Forcing your fingers to hit each key will help you internalize the syntax of what we're doing. Make sure you understand each line of code that you're writing, google things that you don't fully understand.\n",
        " - [Lambda Learning Method for DS - By Ryan Herr](https://docs.google.com/document/d/1ubOw9B3Hfip27hF2ZFnW3a3z9xAgrUDRReOEo-FHCVs/edit?usp=sharing)\n",
        "- Convert the `term` column from string to integer.\n",
        "- Make a column named `loan_status_is_great`. It should contain the integer 1 if `loan_status` is \"Current\" or \"Fully Paid.\" Else it should contain the integer 0.\n",
        "- Make `last_pymnt_d_month` and `last_pymnt_d_year` columns."
      ]
    },
    {
      "cell_type": "code",
      "metadata": {
        "id": "AazB4eFwym2p",
        "colab_type": "code",
        "colab": {}
      },
      "source": [
        "##### Begin Working Here #####\n",
        "\n",
        "import pandas as pd\n",
        "pd.options.display.max_rows = 999\n",
        "pd.options.display.max_columns = 100\n",
        "\n",
        "import numpy as np\n",
        "\n",
        "data_url = 'https://resources.lendingclub.com/LoanStats_2018Q4.csv.zip'\n",
        "data_file = 'LoanStats_2018Q4.csv'\n"
      ],
      "execution_count": 0,
      "outputs": []
    },
    {
      "cell_type": "code",
      "metadata": {
        "id": "__WdLz41SlUf",
        "colab_type": "code",
        "colab": {}
      },
      "source": [
        "# Aproach 1\n",
        "# first load the file in Colab and then load in Notebook dataframe\n",
        "\n",
        "!wget https://resources.lendingclub.com/LoanStats_2018Q4.csv.zip\n",
        "!unzip LoanStats_2018Q4.csv.zip\n",
        "!head LoanStats_2018Q4.csv\n",
        "!tail LoanStats_2018Q4.csv\n",
        "\n",
        "df = pd.read_csv(data_file)\n",
        "df.shape\n",
        "df.head()\n"
      ],
      "execution_count": 0,
      "outputs": []
    },
    {
      "cell_type": "code",
      "metadata": {
        "id": "KIfxwKHrQaYU",
        "colab_type": "code",
        "colab": {}
      },
      "source": [
        "# Aproach 2 - this approach is not good cuz it is big data and is kind of slow\n",
        "# load directly in Notebook dataframe\n",
        "\n",
        "df = pd.read_csv(data_url)\n",
        "df.shape\n",
        "df.head()\n"
      ],
      "execution_count": 0,
      "outputs": []
    },
    {
      "cell_type": "code",
      "metadata": {
        "id": "MPI4D43VTsj6",
        "colab_type": "code",
        "colab": {}
      },
      "source": [
        "# cleaning up the first and last rows for Aproach 1\n",
        "\n",
        "df = pd.read_csv(data_file,skiprows=1,skipfooter=2,engine='python')"
      ],
      "execution_count": 0,
      "outputs": []
    },
    {
      "cell_type": "code",
      "metadata": {
        "id": "CFYyybx8Vkv1",
        "colab_type": "code",
        "colab": {}
      },
      "source": [
        "# cleaning up the first and last rows for Aproach 2\n",
        "\n",
        "df = pd.read_csv(data_url,skiprows=1,skipfooter=2,engine='python')"
      ],
      "execution_count": 0,
      "outputs": []
    },
    {
      "cell_type": "code",
      "metadata": {
        "id": "TELsyQmgZA3B",
        "colab_type": "code",
        "colab": {}
      },
      "source": [
        "df.shape\n",
        "df.head()"
      ],
      "execution_count": 0,
      "outputs": []
    },
    {
      "cell_type": "code",
      "metadata": {
        "id": "HCrDbhMPZAz6",
        "colab_type": "code",
        "colab": {}
      },
      "source": [
        "# drop the columns that are NaN in each row and save in new Dataframe\n",
        "\n",
        "df1 = df.drop(['url','member_id','desc','id'], axis=1)"
      ],
      "execution_count": 0,
      "outputs": []
    },
    {
      "cell_type": "code",
      "metadata": {
        "id": "VsgeR2vtZouz",
        "colab_type": "code",
        "colab": {}
      },
      "source": [
        "# clean up some of the columns : int_rate\n",
        "\n",
        "def int_rate_to_float(int_rate_str):\n",
        "  return float(int_rate_str.strip().strip('%'))\n",
        "\n",
        "df1['int_rate'] = df['int_rate'].apply(int_rate_to_float)\n",
        "df1.head()\n"
      ],
      "execution_count": 0,
      "outputs": []
    },
    {
      "cell_type": "code",
      "metadata": {
        "id": "Cp-BBwkEZpDJ",
        "colab_type": "code",
        "colab": {
          "base_uri": "https://localhost:8080/",
          "height": 34
        },
        "outputId": "46d4b466-fc7d-4904-e9dd-3afa12538e0f"
      },
      "source": [
        "# clean up some of the columns : emp_title\n",
        "\n",
        "df['emp_title'].value_counts(dropna=False)[:20]\n",
        "\n",
        "# returns the number of unique values in emp_title column\n",
        "len(df['emp_title'].value_counts())\n",
        "\n",
        "# title() makes Title casing\n",
        "# isinstance() checks the type of the passed value and returns True or False\n",
        "def clean_title(title):\n",
        "  if isinstance(title, str): \n",
        "    return title.strip().title()\n",
        "  else: \n",
        "    return 'Unknown'\n",
        "\n",
        "df1['emp_title'] = df['emp_title'].apply(clean_title)\n",
        "df1.head()\n",
        "len(df1['emp_title'].value_counts())"
      ],
      "execution_count": 10,
      "outputs": [
        {
          "output_type": "execute_result",
          "data": {
            "text/plain": [
              "34902"
            ]
          },
          "metadata": {
            "tags": []
          },
          "execution_count": 10
        }
      ]
    },
    {
      "cell_type": "code",
      "metadata": {
        "id": "Cw83tnFCZotJ",
        "colab_type": "code",
        "colab": {}
      },
      "source": [
        "# make a column 'emp_title_manager'\n",
        "\n",
        "df1['emp_title_manager'] = df1['emp_title'].str.contains('Manager')\n",
        "df1.head()"
      ],
      "execution_count": 0,
      "outputs": []
    },
    {
      "cell_type": "code",
      "metadata": {
        "id": "HsbaqzvZuQ_e",
        "colab_type": "code",
        "colab": {}
      },
      "source": [
        "# filter the dataframe on that new column\n",
        "\n",
        "condition = (df1['emp_title_manager'] == True)\n",
        "managers = df1[condition]\n",
        "non_managers = df1[-condition]"
      ],
      "execution_count": 0,
      "outputs": []
    },
    {
      "cell_type": "code",
      "metadata": {
        "id": "-OyWowFRZpHv",
        "colab_type": "code",
        "colab": {}
      },
      "source": [
        "df1['issue_d'] = pd.to_datetime(df['issue_d'],infer_datetime_format=True)\n",
        "df1['issue_d_year'] = df1['issue_d'].dt.year"
      ],
      "execution_count": 0,
      "outputs": []
    },
    {
      "cell_type": "code",
      "metadata": {
        "id": "PR-HPXXndiaf",
        "colab_type": "code",
        "colab": {}
      },
      "source": [
        ""
      ],
      "execution_count": 0,
      "outputs": []
    },
    {
      "cell_type": "code",
      "metadata": {
        "id": "3oiizaQNuQ8b",
        "colab_type": "code",
        "colab": {}
      },
      "source": [
        "# Bellow is the new work "
      ],
      "execution_count": 0,
      "outputs": []
    },
    {
      "cell_type": "code",
      "metadata": {
        "id": "xmoL9dxWtGqf",
        "colab_type": "code",
        "colab": {
          "base_uri": "https://localhost:8080/",
          "height": 34
        },
        "outputId": "74725815-c7c2-4fc2-e377-65590031aa35"
      },
      "source": [
        "df1['loan_status'].isnull().sum()"
      ],
      "execution_count": 55,
      "outputs": [
        {
          "output_type": "execute_result",
          "data": {
            "text/plain": [
              "0"
            ]
          },
          "metadata": {
            "tags": []
          },
          "execution_count": 55
        }
      ]
    },
    {
      "cell_type": "code",
      "metadata": {
        "id": "NgGT_pFgdTjw",
        "colab_type": "code",
        "colab": {}
      },
      "source": [
        "# make a column 'loan_status_is_great'\n",
        "\n",
        "# \n",
        "def loan_status_is_great(loan_status):\n",
        "  if (loan_status == 'Current') | (loan_status == 'Fully Paid'):\n",
        "    return 1\n",
        "  else:\n",
        "    return 0\n",
        "\n",
        "df1['loan_status_is_great'] = df1['loan_status'].apply(loan_status_is_great) \n",
        "df1.head()\n"
      ],
      "execution_count": 0,
      "outputs": []
    },
    {
      "cell_type": "code",
      "metadata": {
        "id": "7tIXjX0peW5U",
        "colab_type": "code",
        "colab": {}
      },
      "source": [
        "df1.tail(10)"
      ],
      "execution_count": 0,
      "outputs": []
    },
    {
      "cell_type": "code",
      "metadata": {
        "id": "zBbPV8EpdTrQ",
        "colab_type": "code",
        "colab": {
          "base_uri": "https://localhost:8080/",
          "height": 34
        },
        "outputId": "b3e02656-c819-418a-b72d-8b45d7925325"
      },
      "source": [
        "df1['last_pymnt_d'].isnull().sum()"
      ],
      "execution_count": 22,
      "outputs": [
        {
          "output_type": "execute_result",
          "data": {
            "text/plain": [
              "159"
            ]
          },
          "metadata": {
            "tags": []
          },
          "execution_count": 22
        }
      ]
    },
    {
      "cell_type": "code",
      "metadata": {
        "id": "mdRkdDnWdTiF",
        "colab_type": "code",
        "colab": {
          "base_uri": "https://localhost:8080/",
          "height": 34
        },
        "outputId": "fa8f6fba-a810-4de8-b98e-45137d9ddaa1"
      },
      "source": [
        "# first have to convert 'last pymnt_d' column to datetime\n",
        "# there are values in the column that are NaN, but seems the pandas function to_datetime() handles that\n",
        "# it converts NaN to NaT which is similar to NaN but stored in datetime columns\n",
        "\n",
        "df1['last_pymnt_d'] = pd.to_datetime(df['last_pymnt_d'],infer_datetime_format=True)\n",
        "\n",
        "df1['last_pymnt_d'].isnull().sum()\n",
        "\n"
      ],
      "execution_count": 81,
      "outputs": [
        {
          "output_type": "execute_result",
          "data": {
            "text/plain": [
              "159"
            ]
          },
          "metadata": {
            "tags": []
          },
          "execution_count": 81
        }
      ]
    },
    {
      "cell_type": "code",
      "metadata": {
        "id": "BSENjNRi27d7",
        "colab_type": "code",
        "colab": {}
      },
      "source": [
        "# preserving the orig column for other uses\n",
        "df1['last_pymnt_d_orig'] = df['last_pymnt_d']\n"
      ],
      "execution_count": 0,
      "outputs": []
    },
    {
      "cell_type": "code",
      "metadata": {
        "id": "ly8_oJMh8FN5",
        "colab_type": "code",
        "colab": {}
      },
      "source": [
        "# other aproach to convert 'last pymnt_d' column to datetime\n",
        "def make_date_from_datestr(date_str):\n",
        "  if isinstance(date_str, str): \n",
        "    return pd.to_datetime(date_str, infer_datetime_format=True)\n",
        "  else:\n",
        "    return pd.NaT\n",
        "#make_date_from_datestr('Oct-2018')\n",
        "df1['last_pymnt_d_v2'] = df['last_pymnt_d'].apply(make_date_from_datestr)"
      ],
      "execution_count": 0,
      "outputs": []
    },
    {
      "cell_type": "code",
      "metadata": {
        "id": "b4QzxtwtEgmI",
        "colab_type": "code",
        "colab": {}
      },
      "source": [
        "# if you want to display only subset of columns \n",
        "# df1[['last_pymnt_d','last_pymnt_d_v2']].head(100)\n",
        "\n",
        "# df1[df1['last_pymnt_d'].isnull()]\n"
      ],
      "execution_count": 0,
      "outputs": []
    },
    {
      "cell_type": "code",
      "metadata": {
        "id": "-KeawyxHNPLJ",
        "colab_type": "code",
        "colab": {}
      },
      "source": [
        "# make the year, month columns from already converted date column\n",
        "df1['last_pymnt_d_month'] = df1['last_pymnt_d'].dt.month \n",
        "df1['last_pymnt_d_year'] = df1['last_pymnt_d'].dt.year\n",
        "\n",
        "# make the year, month columns directly from the string date column\n",
        "df1['last_pymnt_d_month_v2'] = pd.to_datetime(df['last_pymnt_d'],infer_datetime_format=True).dt.month \n",
        "df1['last_pymnt_d_year_v2'] = pd.to_datetime(df['last_pymnt_d'],infer_datetime_format=True).dt.year"
      ],
      "execution_count": 0,
      "outputs": []
    },
    {
      "cell_type": "code",
      "metadata": {
        "id": "O7rhxOO1B7Og",
        "colab_type": "code",
        "colab": {}
      },
      "source": [
        "last_paym_date_null = df1['last_pymnt_d'].isnull()\n",
        "no_payment_date =df1[last_paym_date_null]\n",
        "\n",
        "no_payment_date.head()"
      ],
      "execution_count": 0,
      "outputs": []
    },
    {
      "cell_type": "code",
      "metadata": {
        "id": "5QOjYyWtYSyQ",
        "colab_type": "code",
        "colab": {}
      },
      "source": [
        "# cleanup the % column and convert to float\n",
        "def cleanup_perc(perc_str):\n",
        "  if isinstance(perc_str, str):\n",
        "    return float(perc_str.strip().strip('%'))\n",
        "  else:\n",
        "    return np.NaN\n",
        "cleanup_perc(np.NaN)    \n",
        "\n",
        "df1['revol_util'] = df['revol_util'].apply(cleanup_perc)"
      ],
      "execution_count": 0,
      "outputs": []
    },
    {
      "cell_type": "code",
      "metadata": {
        "id": "qaPky2NwYTKe",
        "colab_type": "code",
        "colab": {}
      },
      "source": [
        ""
      ],
      "execution_count": 0,
      "outputs": []
    },
    {
      "cell_type": "code",
      "metadata": {
        "id": "GX6unyitYTJH",
        "colab_type": "code",
        "colab": {}
      },
      "source": [
        ""
      ],
      "execution_count": 0,
      "outputs": []
    },
    {
      "cell_type": "code",
      "metadata": {
        "id": "Da7tQ5AnYS8W",
        "colab_type": "code",
        "colab": {}
      },
      "source": [
        ""
      ],
      "execution_count": 0,
      "outputs": []
    },
    {
      "cell_type": "code",
      "metadata": {
        "id": "gjEzwSHfL8Vj",
        "colab_type": "code",
        "colab": {}
      },
      "source": [
        "# \n",
        "data_url = 'https://archive.ics.uci.edu/ml/machine-learning-databases/car/car.data'\n",
        "import pandas as pd\n",
        "pd.options.display.max_rows = 999\n",
        "pd.options.display.max_columns = 100\n",
        "\n",
        "df = pd.read_csv(data_url)\n"
      ],
      "execution_count": 0,
      "outputs": []
    },
    {
      "cell_type": "code",
      "metadata": {
        "id": "tF6j6tdANo9V",
        "colab_type": "code",
        "colab": {
          "base_uri": "https://localhost:8080/",
          "height": 204
        },
        "outputId": "a5196d52-7ab5-4d2e-fa16-3748f295032b"
      },
      "source": [
        "df.shape\n",
        "df.head()\n",
        "\n",
        "'buying','maint','doors','persons','lug_boot','safety'"
      ],
      "execution_count": 4,
      "outputs": [
        {
          "output_type": "execute_result",
          "data": {
            "text/html": [
              "<div>\n",
              "<style scoped>\n",
              "    .dataframe tbody tr th:only-of-type {\n",
              "        vertical-align: middle;\n",
              "    }\n",
              "\n",
              "    .dataframe tbody tr th {\n",
              "        vertical-align: top;\n",
              "    }\n",
              "\n",
              "    .dataframe thead th {\n",
              "        text-align: right;\n",
              "    }\n",
              "</style>\n",
              "<table border=\"1\" class=\"dataframe\">\n",
              "  <thead>\n",
              "    <tr style=\"text-align: right;\">\n",
              "      <th></th>\n",
              "      <th>vhigh</th>\n",
              "      <th>vhigh.1</th>\n",
              "      <th>2</th>\n",
              "      <th>2.1</th>\n",
              "      <th>small</th>\n",
              "      <th>low</th>\n",
              "      <th>unacc</th>\n",
              "    </tr>\n",
              "  </thead>\n",
              "  <tbody>\n",
              "    <tr>\n",
              "      <th>0</th>\n",
              "      <td>vhigh</td>\n",
              "      <td>vhigh</td>\n",
              "      <td>2</td>\n",
              "      <td>2</td>\n",
              "      <td>small</td>\n",
              "      <td>med</td>\n",
              "      <td>unacc</td>\n",
              "    </tr>\n",
              "    <tr>\n",
              "      <th>1</th>\n",
              "      <td>vhigh</td>\n",
              "      <td>vhigh</td>\n",
              "      <td>2</td>\n",
              "      <td>2</td>\n",
              "      <td>small</td>\n",
              "      <td>high</td>\n",
              "      <td>unacc</td>\n",
              "    </tr>\n",
              "    <tr>\n",
              "      <th>2</th>\n",
              "      <td>vhigh</td>\n",
              "      <td>vhigh</td>\n",
              "      <td>2</td>\n",
              "      <td>2</td>\n",
              "      <td>med</td>\n",
              "      <td>low</td>\n",
              "      <td>unacc</td>\n",
              "    </tr>\n",
              "    <tr>\n",
              "      <th>3</th>\n",
              "      <td>vhigh</td>\n",
              "      <td>vhigh</td>\n",
              "      <td>2</td>\n",
              "      <td>2</td>\n",
              "      <td>med</td>\n",
              "      <td>med</td>\n",
              "      <td>unacc</td>\n",
              "    </tr>\n",
              "    <tr>\n",
              "      <th>4</th>\n",
              "      <td>vhigh</td>\n",
              "      <td>vhigh</td>\n",
              "      <td>2</td>\n",
              "      <td>2</td>\n",
              "      <td>med</td>\n",
              "      <td>high</td>\n",
              "      <td>unacc</td>\n",
              "    </tr>\n",
              "  </tbody>\n",
              "</table>\n",
              "</div>"
            ],
            "text/plain": [
              "   vhigh vhigh.1  2 2.1  small   low  unacc\n",
              "0  vhigh   vhigh  2   2  small   med  unacc\n",
              "1  vhigh   vhigh  2   2  small  high  unacc\n",
              "2  vhigh   vhigh  2   2    med   low  unacc\n",
              "3  vhigh   vhigh  2   2    med   med  unacc\n",
              "4  vhigh   vhigh  2   2    med  high  unacc"
            ]
          },
          "metadata": {
            "tags": []
          },
          "execution_count": 4
        }
      ]
    },
    {
      "cell_type": "markdown",
      "metadata": {
        "colab_type": "text",
        "id": "L8k0LiHmo5EU"
      },
      "source": [
        "# Stretch Goals\n",
        "\n",
        "You can do more with the LendingClub or Instacart datasets.\n",
        "\n",
        "LendingClub options:\n",
        "- There's one other column in the dataframe with percent signs. Remove them and convert to floats. You'll need to handle missing values.\n",
        "- Modify the `emp_title` column to replace titles with 'Other' if the title is not in the top 20. \n",
        "- Take initiatve and work on your own ideas!\n",
        "\n",
        "Instacart options:\n",
        "- Read [Instacart Market Basket Analysis, Winner's Interview: 2nd place, Kazuki Onodera](http://blog.kaggle.com/2017/09/21/instacart-market-basket-analysis-winners-interview-2nd-place-kazuki-onodera/), especially the **Feature Engineering** section. (Can you choose one feature from his bulleted lists, and try to engineer it with pandas code?)\n",
        "- Read and replicate parts of [Simple Exploration Notebook - Instacart](https://www.kaggle.com/sudalairajkumar/simple-exploration-notebook-instacart). (It's the Python Notebook with the most upvotes for this Kaggle competition.)\n",
        "- Take initiative and work on your own ideas!"
      ]
    },
    {
      "cell_type": "markdown",
      "metadata": {
        "colab_type": "text",
        "id": "0_7PXF7lpEXg"
      },
      "source": [
        "You can uncomment and run the cells below to re-download and extract the Instacart data"
      ]
    },
    {
      "cell_type": "code",
      "metadata": {
        "id": "urIePNa0yNG6",
        "colab_type": "code",
        "colab": {}
      },
      "source": [
        "# !wget https://s3.amazonaws.com/instacart-datasets/instacart_online_grocery_shopping_2017_05_01.tar.gz"
      ],
      "execution_count": 0,
      "outputs": []
    },
    {
      "cell_type": "code",
      "metadata": {
        "id": "X9zEyu-uyNG8",
        "colab_type": "code",
        "colab": {}
      },
      "source": [
        "# !tar --gunzip --extract --verbose --file=instacart_online_grocery_shopping_2017_05_01.tar.gz"
      ],
      "execution_count": 0,
      "outputs": []
    },
    {
      "cell_type": "code",
      "metadata": {
        "id": "Y3IqrhlpyNG-",
        "colab_type": "code",
        "colab": {}
      },
      "source": [
        "# %cd instacart_2017_05_01"
      ],
      "execution_count": 0,
      "outputs": []
    }
  ]
}